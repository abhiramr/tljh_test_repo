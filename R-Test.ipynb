{
 "cells": [
  {
   "cell_type": "code",
   "execution_count": 1,
   "metadata": {},
   "outputs": [],
   "source": [
    "x <- data.frame(\"ID\" = 1:2, \"Age\" = c(21,15), \"Name\" = c(\"ABhi1\",\"Abhi2\"))"
   ]
  },
  {
   "cell_type": "code",
   "execution_count": 2,
   "metadata": {},
   "outputs": [
    {
     "data": {
      "text/html": [
       "<table>\n",
       "<caption>A data.frame: 2 × 3</caption>\n",
       "<thead>\n",
       "\t<tr><th scope=col>ID</th><th scope=col>Age</th><th scope=col>Name</th></tr>\n",
       "\t<tr><th scope=col>&lt;int&gt;</th><th scope=col>&lt;dbl&gt;</th><th scope=col>&lt;fct&gt;</th></tr>\n",
       "</thead>\n",
       "<tbody>\n",
       "\t<tr><td>1</td><td>21</td><td>ABhi1</td></tr>\n",
       "\t<tr><td>2</td><td>15</td><td>Abhi2</td></tr>\n",
       "</tbody>\n",
       "</table>\n"
      ],
      "text/latex": [
       "A data.frame: 2 × 3\n",
       "\\begin{tabular}{r|lll}\n",
       " ID & Age & Name\\\\\n",
       " <int> & <dbl> & <fct>\\\\\n",
       "\\hline\n",
       "\t 1 & 21 & ABhi1\\\\\n",
       "\t 2 & 15 & Abhi2\\\\\n",
       "\\end{tabular}\n"
      ],
      "text/markdown": [
       "\n",
       "A data.frame: 2 × 3\n",
       "\n",
       "| ID &lt;int&gt; | Age &lt;dbl&gt; | Name &lt;fct&gt; |\n",
       "|---|---|---|\n",
       "| 1 | 21 | ABhi1 |\n",
       "| 2 | 15 | Abhi2 |\n",
       "\n"
      ],
      "text/plain": [
       "  ID Age Name \n",
       "1 1  21  ABhi1\n",
       "2 2  15  Abhi2"
      ]
     },
     "metadata": {},
     "output_type": "display_data"
    }
   ],
   "source": [
    "x"
   ]
  },
  {
   "cell_type": "code",
   "execution_count": null,
   "metadata": {},
   "outputs": [],
   "source": []
  }
 ],
 "metadata": {
  "kernelspec": {
   "display_name": "R",
   "language": "R",
   "name": "ir"
  },
  "language_info": {
   "codemirror_mode": "r",
   "file_extension": ".r",
   "mimetype": "text/x-r-source",
   "name": "R",
   "pygments_lexer": "r",
   "version": "3.6.1"
  }
 },
 "nbformat": 4,
 "nbformat_minor": 2
}
